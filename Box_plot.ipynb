{
  "cells": [
    {
      "cell_type": "code",
      "source": [
        "import matplotlib.pyplot as plt\n",
        "import numpy as np\n",
        "\n",
        "# Given dataset\n",
        "dataset = [32, 14, 5, 67, 88, 9, 11, 13, 5, 61, 7, 5]\n",
        "\n",
        "# Calculate quartiles and IQR manually\n",
        "sorted_data = sorted(dataset)\n",
        "Q1 = np.percentile(sorted_data, 25)\n",
        "Q2 = np.percentile(sorted_data, 50)\n",
        "Q3 = np.percentile(sorted_data, 75)\n",
        "IQR = Q3 - Q1\n",
        "\n",
        "# Find outliers\n",
        "lower_bound = Q1 - 1.5 * IQR\n",
        "upper_bound = Q3 + 1.5 * IQR\n",
        "outliers = [x for x in sorted_data if x < lower_bound or x > upper_bound]\n",
        "\n",
        "# Display box plot\n",
        "plt.boxplot(dataset)\n",
        "plt.title('Box Plot')\n",
        "plt.show()\n",
        "\n",
        "# Display calculated values\n",
        "print(f\"Q1 (25th percentile): {Q1}\")\n",
        "print(f\"Q2 (50th percentile - Median): {Q2}\")\n",
        "print(f\"Q3 (75th percentile): {Q3}\")\n",
        "print(f\"IQR (Interquartile Range): {IQR}\")\n",
        "print(f\"Outliers: {outliers}\")"
      ],
      "metadata": {
        "colab": {
          "base_uri": "https://localhost:8080/",
          "height": 539
        },
        "id": "lpREoh6t2XaK",
        "outputId": "47f719c1-b48f-4014-e37f-234dc9af1d95"
      },
      "execution_count": 6,
      "outputs": [
        {
          "output_type": "display_data",
          "data": {
            "text/plain": [
              "<Figure size 640x480 with 1 Axes>"
            ],
            "image/png": "[encoded data removed]"
          },
          "metadata": {}
        },
        {
          "output_type": "stream",
          "name": "stdout",
          "text": [
            "Q1 (25th percentile): 6.5\n",
            "Q2 (50th percentile - Median): 12.0\n",
            "Q3 (75th percentile): 39.25\n",
            "IQR (Interquartile Range): 32.75\n",
            "Outliers: []\n"
          ]
        }
      ]
    }
  ],
  "metadata": {
    "colab": {
      "provenance": []
    },
    "kernelspec": {
      "display_name": "Python 3",
      "name": "python3"
    },
    "language_info": {
      "name": "python"
    }
  },
  "nbformat": 4,
  "nbformat_minor": 0
}